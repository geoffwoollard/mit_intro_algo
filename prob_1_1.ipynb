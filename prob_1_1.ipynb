{
  "nbformat": 4,
  "nbformat_minor": 0,
  "metadata": {
    "colab": {
      "name": "prob_1_1.ipynb",
      "provenance": [],
      "collapsed_sections": [],
      "authorship_tag": "ABX9TyNO+8R9AyZDL/rVeDQWXPlc",
      "include_colab_link": true
    },
    "kernelspec": {
      "name": "python3",
      "display_name": "Python 3"
    }
  },
  "cells": [
    {
      "cell_type": "markdown",
      "metadata": {
        "id": "view-in-github",
        "colab_type": "text"
      },
      "source": [
        "<a href=\"https://colab.research.google.com/github/geoffwoollard/mit_intro_algo/blob/main/prob_1_1.ipynb\" target=\"_parent\"><img src=\"https://colab.research.google.com/assets/colab-badge.svg\" alt=\"Open In Colab\"/></a>"
      ]
    },
    {
      "cell_type": "markdown",
      "metadata": {
        "id": "P7r3-SdLZSPL"
      },
      "source": [
        "Comparison of running time.\n",
        "Note values in final table are in lg scale"
      ]
    },
    {
      "cell_type": "code",
      "metadata": {
        "id": "PjXf_dLUZF97"
      },
      "source": [
        "import math\n",
        "import pandas as pd\n",
        "from scipy.special import lambertw\n"
      ],
      "execution_count": 1,
      "outputs": []
    },
    {
      "cell_type": "code",
      "metadata": {
        "id": "M6P6rPrfZd_v"
      },
      "source": [
        "def times():\n",
        "  second = 1e6\n",
        "  minute = second*60\n",
        "  hour = minute*60\n",
        "  day = hour*24\n",
        "  month = day*30.5\n",
        "  year = month*12\n",
        "  century=year*100\n",
        "  return([int(x) for x in [second,minute,hour,day,month,year,century]])"
      ],
      "execution_count": 6,
      "outputs": []
    },
    {
      "cell_type": "code",
      "metadata": {
        "id": "SfudXoXhaL9G"
      },
      "source": [
        "ts = times()"
      ],
      "execution_count": 75,
      "outputs": []
    },
    {
      "cell_type": "code",
      "metadata": {
        "id": "CooyTQPkZa3W"
      },
      "source": [
        "def solve_for_n(time): # in lg scale\n",
        "  inv_lgn = time #2**time\n",
        "  inv_sqrtn = 2*math.log2(time) # time**2\n",
        "  inv_n = math.log2(time) # time\n",
        "  inv_nlgn = math.log2(comp_inv_nlogn(time))\n",
        "  inv_n2 = 0.5*math.log2(time) # math.sqrt(time)\n",
        "  inv_n3 = 1./3.*math.log2(time) # time**(1./3.)\n",
        "  inv_2n = math.log2(math.log2(time)) # math.log2(time)\n",
        "  inv_nfac = math.log2(comp_inv_nfac(time))\n",
        "  return([inv_lgn,inv_sqrtn,inv_n,inv_nlgn,inv_n2,inv_n3,inv_2n,inv_nfac])\n"
      ],
      "execution_count": 74,
      "outputs": []
    },
    {
      "cell_type": "code",
      "metadata": {
        "id": "SxHQONxH4GiW"
      },
      "source": [
        "def comp_inv_nlogn(nlogn,iterations=10):\n",
        "  # https://math.stackexchange.com/a/211940\n",
        "  # n_real = 1e6\n",
        "  # nlogn = n_real*math.log2(n_real)\n",
        "  n = nlogn # initial guess\n",
        "  for _ in range(iterations):\n",
        "    n = nlogn/math.log2(n)\n",
        "    #print(n,n*math.log2(n),nlogn)\n",
        "  return(n)"
      ],
      "execution_count": 69,
      "outputs": []
    },
    {
      "cell_type": "code",
      "metadata": {
        "id": "WMp-6gav79ex"
      },
      "source": [
        "def comp_inv_nfac(nfac):\n",
        "  # https://mathoverflow.net/a/28977\n",
        "  c = 0.036534\n",
        "  L = math.log((nfac+c)/math.sqrt(2*math.pi))\n",
        "  W = lambertw(L/math.e).real\n",
        "  inv_nfac = L/W+0.5 - 1 # -1 because n! = Gamma(n-1)\n",
        "  return(inv_nfac)"
      ],
      "execution_count": 70,
      "outputs": []
    },
    {
      "cell_type": "code",
      "metadata": {
        "colab": {
          "base_uri": "https://localhost:8080/",
          "height": 297
        },
        "id": "AvWCDs3XgHrr",
        "outputId": "32235a5a-4a42-4db9-c7e6-ddba96e84e2c"
      },
      "source": [
        "df = pd.DataFrame({t:solve_for_n(t) for t in ts})\n"
      ],
      "execution_count": 71,
      "outputs": [
        {
          "output_type": "execute_result",
          "data": {
            "text/html": [
              "<div>\n",
              "<style scoped>\n",
              "    .dataframe tbody tr th:only-of-type {\n",
              "        vertical-align: middle;\n",
              "    }\n",
              "\n",
              "    .dataframe tbody tr th {\n",
              "        vertical-align: top;\n",
              "    }\n",
              "\n",
              "    .dataframe thead th {\n",
              "        text-align: right;\n",
              "    }\n",
              "</style>\n",
              "<table border=\"1\" class=\"dataframe\">\n",
              "  <thead>\n",
              "    <tr style=\"text-align: right;\">\n",
              "      <th></th>\n",
              "      <th>1000000</th>\n",
              "      <th>60000000</th>\n",
              "      <th>3600000000</th>\n",
              "      <th>86400000000</th>\n",
              "      <th>2635200000000</th>\n",
              "      <th>31622400000000</th>\n",
              "      <th>3162240000000000</th>\n",
              "    </tr>\n",
              "  </thead>\n",
              "  <tbody>\n",
              "    <tr>\n",
              "      <th>0</th>\n",
              "      <td>1000000.000000</td>\n",
              "      <td>6.000000e+07</td>\n",
              "      <td>3.600000e+09</td>\n",
              "      <td>8.640000e+10</td>\n",
              "      <td>2.635200e+12</td>\n",
              "      <td>3.162240e+13</td>\n",
              "      <td>3.162240e+15</td>\n",
              "    </tr>\n",
              "    <tr>\n",
              "      <th>1</th>\n",
              "      <td>39.863137</td>\n",
              "      <td>5.167692e+01</td>\n",
              "      <td>6.349070e+01</td>\n",
              "      <td>7.266062e+01</td>\n",
              "      <td>8.252210e+01</td>\n",
              "      <td>8.969202e+01</td>\n",
              "      <td>1.029797e+02</td>\n",
              "    </tr>\n",
              "    <tr>\n",
              "      <th>2</th>\n",
              "      <td>19.931569</td>\n",
              "      <td>2.583846e+01</td>\n",
              "      <td>3.174535e+01</td>\n",
              "      <td>3.633031e+01</td>\n",
              "      <td>4.126105e+01</td>\n",
              "      <td>4.484601e+01</td>\n",
              "      <td>5.148987e+01</td>\n",
              "    </tr>\n",
              "    <tr>\n",
              "      <th>3</th>\n",
              "      <td>15.937239</td>\n",
              "      <td>2.141773e+01</td>\n",
              "      <td>2.699095e+01</td>\n",
              "      <td>3.135948e+01</td>\n",
              "      <td>3.608762e+01</td>\n",
              "      <td>3.954074e+01</td>\n",
              "      <td>4.596733e+01</td>\n",
              "    </tr>\n",
              "    <tr>\n",
              "      <th>4</th>\n",
              "      <td>9.965784</td>\n",
              "      <td>1.291923e+01</td>\n",
              "      <td>1.587267e+01</td>\n",
              "      <td>1.816516e+01</td>\n",
              "      <td>2.063052e+01</td>\n",
              "      <td>2.242301e+01</td>\n",
              "      <td>2.574493e+01</td>\n",
              "    </tr>\n",
              "    <tr>\n",
              "      <th>5</th>\n",
              "      <td>6.643856</td>\n",
              "      <td>8.612820e+00</td>\n",
              "      <td>1.058178e+01</td>\n",
              "      <td>1.211010e+01</td>\n",
              "      <td>1.375368e+01</td>\n",
              "      <td>1.494867e+01</td>\n",
              "      <td>1.716329e+01</td>\n",
              "    </tr>\n",
              "    <tr>\n",
              "      <th>6</th>\n",
              "      <td>4.316983</td>\n",
              "      <td>4.691448e+00</td>\n",
              "      <td>4.988473e+00</td>\n",
              "      <td>5.183102e+00</td>\n",
              "      <td>5.366709e+00</td>\n",
              "      <td>5.486908e+00</td>\n",
              "      <td>5.686217e+00</td>\n",
              "    </tr>\n",
              "    <tr>\n",
              "      <th>7</th>\n",
              "      <td>3.239365</td>\n",
              "      <td>3.480899e+00</td>\n",
              "      <td>3.676677e+00</td>\n",
              "      <td>3.806899e+00</td>\n",
              "      <td>3.931108e+00</td>\n",
              "      <td>4.013123e+00</td>\n",
              "      <td>4.150310e+00</td>\n",
              "    </tr>\n",
              "  </tbody>\n",
              "</table>\n",
              "</div>"
            ],
            "text/plain": [
              "   1000000           60000000          ...  31622400000000    3162240000000000\n",
              "0    1000000.000000      6.000000e+07  ...      3.162240e+13      3.162240e+15\n",
              "1         39.863137      5.167692e+01  ...      8.969202e+01      1.029797e+02\n",
              "2         19.931569      2.583846e+01  ...      4.484601e+01      5.148987e+01\n",
              "3         15.937239      2.141773e+01  ...      3.954074e+01      4.596733e+01\n",
              "4          9.965784      1.291923e+01  ...      2.242301e+01      2.574493e+01\n",
              "5          6.643856      8.612820e+00  ...      1.494867e+01      1.716329e+01\n",
              "6          4.316983      4.691448e+00  ...      5.486908e+00      5.686217e+00\n",
              "7          3.239365      3.480899e+00  ...      4.013123e+00      4.150310e+00\n",
              "\n",
              "[8 rows x 7 columns]"
            ]
          },
          "metadata": {
            "tags": []
          },
          "execution_count": 71
        }
      ]
    },
    {
      "cell_type": "markdown",
      "metadata": {
        "id": "MLqitjvQ_QYs"
      },
      "source": [
        "Even with centuries of runtime, when an algorithm is $O(n!)$, it can only handle $n \\sim 2^{4.15}=17$, because $18! \\mu s $ is more than one century!\n",
        "\n",
        "Even $O(n^2)$ can only handle $n=10^7$, and things get worse for $n^3$ and $2^n$"
      ]
    },
    {
      "cell_type": "code",
      "metadata": {
        "colab": {
          "base_uri": "https://localhost:8080/"
        },
        "id": "qSC9GWZm_otj",
        "outputId": "b876775e-fcc2-4605-d84e-24886bb9a449"
      },
      "source": [
        "2**df[3162240000000000]"
      ],
      "execution_count": 83,
      "outputs": [
        {
          "output_type": "execute_result",
          "data": {
            "text/plain": [
              "0             inf\n",
              "1    9.999762e+30\n",
              "2    3.162240e+15\n",
              "3    6.879320e+13\n",
              "4    5.623380e+07\n",
              "5    1.467793e+05\n",
              "6    5.148987e+01\n",
              "7    1.775692e+01\n",
              "Name: 3162240000000000, dtype: float64"
            ]
          },
          "metadata": {
            "tags": []
          },
          "execution_count": 83
        }
      ]
    }
  ]
}